{
 "cells": [
  {
   "cell_type": "markdown",
   "id": "fccccdde",
   "metadata": {},
   "source": [
    "# Debugging"
   ]
  },
  {
   "cell_type": "markdown",
   "id": "25bb465c",
   "metadata": {},
   "source": [
    "Exercise 1\n",
    "The following code is supposed to count have many positive values a random matrix has."
   ]
  },
  {
   "cell_type": "code",
   "execution_count": null,
   "id": "eeb7fae1",
   "metadata": {},
   "outputs": [],
   "source": [
    "import numpy as np\n",
    "\n",
    "n_cols = 10\n",
    "n_rows = 200\n",
    "m1 = np.random.random((n_cols, n_rows)) * 2 - 1\n",
    "\n",
    "\n",
    "positive_vals = 0\n",
    "for t_row in range(n_rows):\n",
    "    for t_col in range(n_cols):\n",
    "        if m1[trow, tcol] > 0:\n",
    "            positive_vals += 1\n",
    "\n",
    "print(f\"This matrix has {positive_vals} positive values\")"
   ]
  },
  {
   "cell_type": "markdown",
   "id": "f453a7a0",
   "metadata": {},
   "source": [
    "Is it free from defects?\n",
    "Copy and paste the code into ipython and run it as it is. Do you experience any fault?\n",
    "Ask ChatGPT to explain what the error means.\n",
    "Fix it.\n",
    "Can you ensure that there are no bugs?"
   ]
  },
  {
   "cell_type": "markdown",
   "id": "02fb7127",
   "metadata": {},
   "source": [
    "## Exercise 2"
   ]
  },
  {
   "cell_type": "markdown",
   "id": "236d0f8d",
   "metadata": {},
   "source": [
    "This is a snippet of code that computes the cumulative mean for the first X samples of a vector m2 and prints its value."
   ]
  },
  {
   "cell_type": "code",
   "execution_count": null,
   "id": "067f0447",
   "metadata": {},
   "outputs": [],
   "source": [
    "import numpy as np\n",
    "m2 = np.random.random(20)\n",
    "\n",
    "for i in reversed(range(20)):\n",
    "    this_vector = m2[:1]\n",
    "    this_mean = m2.sum() / i\n",
    "    print(f\"The mean of the first {i} elements is {this_mean}\")"
   ]
  },
  {
   "cell_type": "markdown",
   "id": "1abdb45b",
   "metadata": {},
   "source": [
    "\n",
    "Does it work?\n",
    "Is there an exception/fault?\n",
    "What is the problem?\n",
    "Can you place a breakpoint (using VSCode) when the mean is computed? Can you set the breakpoint so it stops only when the value of i makes it fail?\n",
    "Can you fix the code?"
   ]
  }
 ],
 "metadata": {
  "kernelspec": {
   "display_name": "julearn_env",
   "language": "python",
   "name": "python3"
  },
  "language_info": {
   "codemirror_mode": {
    "name": "ipython",
    "version": 3
   },
   "file_extension": ".py",
   "mimetype": "text/x-python",
   "name": "python",
   "nbconvert_exporter": "python",
   "pygments_lexer": "ipython3",
   "version": "3.10.8"
  }
 },
 "nbformat": 4,
 "nbformat_minor": 5
}
