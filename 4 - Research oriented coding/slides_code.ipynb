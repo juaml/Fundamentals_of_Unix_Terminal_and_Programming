{
 "cells": [
  {
   "cell_type": "markdown",
   "id": "40a5b6eb",
   "metadata": {},
   "source": [
    "# Reaserch oriented coding - Modularization"
   ]
  },
  {
   "cell_type": "markdown",
   "id": "6ebd4c72",
   "metadata": {},
   "source": [
    "## We want to create \"modules\"= functions that we can reuse.\n",
    "### lets look at the following simple example"
   ]
  },
  {
   "cell_type": "code",
   "execution_count": null,
   "id": "92233265",
   "metadata": {},
   "outputs": [],
   "source": [
    "import pandas as pd\n",
    "\n",
    "data1 = pd.read_csv(\"data1.csv\")\n",
    "data2 = pd.read_csv(\"data2.csv\")\n",
    "\n",
    "data1 = data1.dropna()\n",
    "data1 = data1.drop_duplicates()\n",
    "data1 = data1.reset_index(drop=True)\n",
    "data1 = data1.rename(columns={\"old_name\": \"new_name\"})\n",
    "\n",
    "data2 = data2.dropna()\n",
    "data2 = data2.drop_duplicates()\n",
    "data2 = data2.reset_index(drop=True)\n",
    "data2 = data2.rename(columns={\"old_name\": \"new_name\"})\n"
   ]
  },
  {
   "cell_type": "markdown",
   "id": "5bf6d37d",
   "metadata": {},
   "source": [
    "The process of the data is the same. Then, we can create a function that does this \"processing\""
   ]
  },
  {
   "cell_type": "code",
   "execution_count": null,
   "id": "795281ae",
   "metadata": {},
   "outputs": [],
   "source": [
    "import pandas as pd\n",
    "\n",
    "data1 = pd.read_csv(\"data1.csv\")\n",
    "data2 = pd.read_csv(\"data2.csv\")\n",
    "\n",
    "my_old_name = \"old_name\"\n",
    "my_new_name = \"new_name\"\n",
    "\n",
    "\n",
    "def process_data(data, new_name, old_name):\n",
    "    data = data.dropna()\n",
    "    data = data.drop_duplicates()\n",
    "    data = data.reset_index(drop=True)\n",
    "    data = data.rename(columns={old_name: new_name})\n",
    "\n",
    "    return data\n",
    "\n",
    "\n",
    "data1 = process_data(data1, my_old_name, my_new_name)\n",
    "data2 = process_data(data2, my_old_name, my_new_name)\n"
   ]
  },
  {
   "cell_type": "markdown",
   "id": "f36fd7da",
   "metadata": {},
   "source": [
    "Ok, so now we have our function, lets use it."
   ]
  },
  {
   "cell_type": "code",
   "execution_count": null,
   "id": "aac04563",
   "metadata": {},
   "outputs": [],
   "source": [
    "import pandas as pd\n",
    "\n",
    "data1 = pd.read_csv(\"data1.csv\")\n",
    "data2 = pd.read_csv(\"data2.csv\")\n",
    "\n",
    "my_old_name = \"old_name\"\n",
    "my_new_name = \"new_name\"\n",
    "\n",
    "data1 = process_data(data1, my_old_name, my_new_name)\n",
    "data2 = process_data(data2, my_old_name, my_new_name)\n"
   ]
  },
  {
   "cell_type": "markdown",
   "id": "05bc83f8",
   "metadata": {},
   "source": [
    "Clearly, the code now looks much cleaner. \n",
    "Additionally, if we want to make a change in the processing, that will happend for all the cases at once."
   ]
  },
  {
   "cell_type": "markdown",
   "id": "9952cd72",
   "metadata": {},
   "source": [
    "# Positional and keyword arguments\n"
   ]
  },
  {
   "cell_type": "markdown",
   "id": "a5510dad",
   "metadata": {},
   "source": [
    "Our functions recieve 3 arguments: data, old name and new name.\n",
    "Before, we pass the argument in the same order as we defined in the function. This is a positional argument"
   ]
  },
  {
   "cell_type": "code",
   "execution_count": null,
   "id": "2bab0dbe",
   "metadata": {},
   "outputs": [],
   "source": [
    "my_old_name = \"old_name\"\n",
    "my_new_name = \"new_name\"\n",
    "\n",
    "data1 = process_data(data1, my_new_name, my_old_name)\n",
    "data2 = process_data(data2, my_new_name, my_old_name)"
   ]
  },
  {
   "cell_type": "markdown",
   "id": "8998a132",
   "metadata": {},
   "source": [
    "However, we can also give the name of each argument to the function as follows:"
   ]
  },
  {
   "cell_type": "code",
   "execution_count": null,
   "id": "b0d286aa",
   "metadata": {},
   "outputs": [],
   "source": [
    "my_old_name = \"old_name\"\n",
    "my_new_name = \"new_name\"\n",
    "\n",
    "data1 = process_data(data=data1, old_name=my_old_name, new_name=my_new_name)\n",
    "data2 = process_data(data=data2, old_name=my_old_name, new_name=my_new_name)"
   ]
  },
  {
   "cell_type": "code",
   "execution_count": null,
   "id": "4c527ddb",
   "metadata": {},
   "outputs": [],
   "source": [
    "my_old_name = \"old_name\"\n",
    "my_new_name = \"new_name\"\n",
    "\n",
    "# Position now is irrelevant\n",
    "data1 = process_data(data=data1, new_name=my_new_name, old_name=my_old_name)\n",
    "data2 = process_data(data=data2, new_name=my_new_name, old_name=my_old_name)"
   ]
  },
  {
   "cell_type": "markdown",
   "id": "85afdf52",
   "metadata": {},
   "source": [
    "As you can see, the sintax requires more typing and can become too long. But there is a key advantage, we will be sure that the function is recieving in each \n",
    "However, keyword arguments are prefere to avoid confusions. For example, did you realize that in the first example we pass the \"old\" and \"new\" name in the wrong order? Maybe you did, but I can asure you that this happends quite often."
   ]
  },
  {
   "cell_type": "markdown",
   "id": "6e59113f",
   "metadata": {},
   "source": [
    "# Typing\n",
    "## Typing allows the function to know in advance what kinds of data each variable will be."
   ]
  },
  {
   "cell_type": "code",
   "execution_count": null,
   "id": "a63da3d1",
   "metadata": {},
   "outputs": [],
   "source": [
    "def process_data(data: pd.DataFrame, \n",
    "                 old_name: str,\n",
    "                 new_name: str) -> pd.DataFrame:\n",
    "    data = data.dropna()\n",
    "    data = data.drop_duplicates()\n",
    "    data = data.reset_index(drop=True)\n",
    "    data = data.rename(columns={old_name: new_name})\n",
    "\n",
    "    return data\n"
   ]
  },
  {
   "cell_type": "markdown",
   "id": "4cd758aa",
   "metadata": {},
   "source": [
    "# Defaults"
   ]
  },
  {
   "cell_type": "code",
   "execution_count": null,
   "id": "17108ca9",
   "metadata": {},
   "outputs": [],
   "source": [
    "def process_data(data: pd.DataFrame,\n",
    "                 old_name: str,\n",
    "                 new_name: str = \"cool_name\") -> pd.DataFrame:\n",
    "\n",
    "    data = data.dropna()\n",
    "    data = data.drop_duplicates()\n",
    "    data = data.reset_index(drop=True)\n",
    "    data = data.rename(columns={old_name: new_name})\n",
    "\n",
    "    return data\n"
   ]
  },
  {
   "cell_type": "markdown",
   "id": "b29adf6b",
   "metadata": {},
   "source": [
    "# Typing vs argument validation"
   ]
  },
  {
   "cell_type": "code",
   "execution_count": null,
   "id": "113f5b5a",
   "metadata": {},
   "outputs": [],
   "source": [
    "def process_data(data: pd.DataFrame,\n",
    "                 old_name: str,\n",
    "                 new_name: str = \"cool_name\") -> pd.DataFrame:\n",
    "\n",
    "    if not isinstance(old_name, str):\n",
    "        raise TypeError(\n",
    "            f\"Invalid value for 'old_name': {type(old_name)} (expected str)\"\n",
    "        )\n",
    "\n",
    "    if not isinstance(new_name, str):\n",
    "        raise TypeError(\n",
    "            f\"Invalid value for 'new_name': {type(new_name)} (expected str)\"\n",
    "        )\n",
    "\n",
    "    # Assert arguments\n",
    "    assert old_name != \"Patient_ID\", \"Not allowed to rename 'Patient_ID' column\"\n",
    "\n",
    "    data = data.dropna()\n",
    "    data = data.drop_duplicates()\n",
    "    data = data.reset_index(drop=True)\n",
    "    data = data.rename(columns={old_name: new_name})\n",
    "\n",
    "    # Assert functionality\n",
    "    assert data.shape[0] == 10\n",
    "\n",
    "    return data\n"
   ]
  },
  {
   "cell_type": "markdown",
   "id": "ebd007f0",
   "metadata": {},
   "source": [
    "# Docstring"
   ]
  },
  {
   "cell_type": "code",
   "execution_count": null,
   "id": "5b0e5ce5",
   "metadata": {},
   "outputs": [],
   "source": [
    "def process_data(data: pd.DataFrame,\n",
    "                 old_name: str,\n",
    "                 new_name: str = \"cool_name\") -> pd.DataFrame:\n",
    "    \"\"\"\n",
    "    Processes a pandas DataFrame by cleaning and renaming a column.\n",
    "\n",
    "    Parameters\n",
    "    ----------\n",
    "    data : pd.DataFrame\n",
    "        The input DataFrame to process.\n",
    "    old_name : str\n",
    "        The name of the column to rename.\n",
    "    new_name : str, optional\n",
    "        The new name for the column. Default is \"cool_name\".\n",
    "\n",
    "    Returns\n",
    "    -------\n",
    "    pd.DataFrame\n",
    "        The processed DataFrame with cleaned data and renamed column.\n",
    "\n",
    "    Raises\n",
    "    ------\n",
    "    TypeError\n",
    "        If `old_name` or `new_name` is not a string.\n",
    "    AssertionError\n",
    "        If `old_name` is \"Patient_ID\".\n",
    "        If the resulting DataFrame does not have exactly 10 rows.\n",
    "\n",
    "    Notes\n",
    "    -----\n",
    "    - The function removes missing values and duplicates.\n",
    "    - The index is reset after cleaning.\n",
    "    \"\"\"\n",
    "\n",
    "    if not isinstance(old_name, str):\n",
    "        raise TypeError(\n",
    "            f\"Invalid value for 'old_name': {type(old_name)} (expected str)\"\n",
    "        )\n",
    "\n",
    "    if not isinstance(new_name, str):\n",
    "        raise TypeError(\n",
    "            f\"Invalid value for 'new_name': {type(new_name)} (expected str)\"\n",
    "        )\n",
    "\n",
    "    # Assert arguments\n",
    "    assert old_name != \"Patient_ID\", \"Not allowed to rename 'Patient_ID' column\"\n",
    "\n",
    "    data = data.dropna()\n",
    "    data = data.drop_duplicates()\n",
    "    data = data.reset_index(drop=True)\n",
    "    data = data.rename(columns={old_name: new_name})\n",
    "\n",
    "    # Assert functionality\n",
    "    assert data.shape[0] == 10\n",
    "\n",
    "    return data\n",
    "\n"
   ]
  },
  {
   "cell_type": "markdown",
   "id": "88a66634",
   "metadata": {},
   "source": [
    "# Referencing"
   ]
  },
  {
   "cell_type": "code",
   "execution_count": null,
   "id": "d4b8f0c6",
   "metadata": {},
   "outputs": [
    {
     "name": "stdout",
     "output_type": "stream",
     "text": [
      "[1, 2, 3, 4]\n",
      "[1, 2, 3, 4]\n"
     ]
    }
   ],
   "source": [
    "raw_data = [1, 2, 3]  # create a \"raw data\"\n",
    "process_data = raw_data  # Create a new variable for processing\n",
    "process_data.append(4)  # do some processing\n",
    "\n",
    "print(raw_data)\n",
    "print(process_data)"
   ]
  },
  {
   "cell_type": "code",
   "execution_count": null,
   "id": "fa6ed993",
   "metadata": {},
   "outputs": [
    {
     "name": "stdout",
     "output_type": "stream",
     "text": [
      "[1, 2, 3]\n",
      "[1, 2, 3, 4]\n"
     ]
    }
   ],
   "source": [
    "raw_data = [1, 2, 3]  # create a \"raw data\"\n",
    "process_data = raw_data.copy()  # Create a new variable for processing\n",
    "process_data.append(4)  # do some processing\n",
    "\n",
    "print(raw_data)\n",
    "print(process_data)"
   ]
  },
  {
   "cell_type": "markdown",
   "id": "ba45128a",
   "metadata": {},
   "source": [
    "### In a more bit more complex scenario, where we are doing several processing to the data, the conflicts are clear"
   ]
  },
  {
   "cell_type": "code",
   "execution_count": null,
   "id": "fdc9a5aa",
   "metadata": {},
   "outputs": [
    {
     "name": "stdout",
     "output_type": "stream",
     "text": [
      "[1, 2, 3, 4, 5]\n",
      "[1, 2, 3, 4, 5]\n",
      "[1, 2, 3, 4, 5]\n"
     ]
    }
   ],
   "source": [
    "raw_data = [1, 2, 3]  # create a \"raw data\"\n",
    "process_data = raw_data  # Create a new variable for processing\n",
    "process_data.append(4)  # do some processing\n",
    "\n",
    "process_data2 = raw_data  # Create for a different processing\n",
    "process_data2.append(5)  # do some processing\n",
    "\n",
    "print(raw_data)\n",
    "print(process_data)\n",
    "print(process_data2)\n"
   ]
  },
  {
   "cell_type": "code",
   "execution_count": null,
   "id": "c42d7dbc",
   "metadata": {},
   "outputs": [
    {
     "name": "stdout",
     "output_type": "stream",
     "text": [
      "[1, 2, 3]\n",
      "[1, 2, 3, 4]\n",
      "[1, 2, 3, 5]\n"
     ]
    }
   ],
   "source": [
    "raw_data = [1, 2, 3]  # create a \"raw data\"\n",
    "process_data = raw_data.copy()  # create a new variable for processing\n",
    "process_data.append(4)  # do some processing\n",
    "\n",
    "process_data2 = raw_data.copy()  # create for a different processing\n",
    "process_data2.append(5)  # do some processing\n",
    "\n",
    "print(raw_data)\n",
    "print(process_data)\n",
    "print(process_data2)\n"
   ]
  },
  {
   "cell_type": "markdown",
   "id": "bc5c03a6",
   "metadata": {},
   "source": [
    "### But what happend with functions?\n",
    "#### Lets create a simple function and see how the data is affectes"
   ]
  },
  {
   "cell_type": "code",
   "execution_count": 1,
   "id": "f4a62534",
   "metadata": {},
   "outputs": [
    {
     "name": "stdout",
     "output_type": "stream",
     "text": [
      "[1, 2, 3, 4]\n",
      "[1, 2, 3, 4]\n"
     ]
    }
   ],
   "source": [
    "def process_data_adding_values(data: list,\n",
    "                               value: int) -> list:\n",
    "    \"\"\"\n",
    "    Adds a value to the data.\n",
    "\n",
    "    Parameters\n",
    "    ----------\n",
    "    data : list\n",
    "        The input data to process.\n",
    "    value : int\n",
    "        The value to add to the data.\n",
    "\n",
    "    Returns\n",
    "    -------\n",
    "    list\n",
    "        The processed data with the added value.\n",
    "    \"\"\"\n",
    "    data.append(value)\n",
    "    return data\n",
    "\n",
    "raw_data = [1, 2, 3]  # create a \"raw data\"\n",
    "\n",
    "process_data = process_data_adding_values(raw_data, 4)\n",
    "\n",
    "print(raw_data)\n",
    "print(process_data)\n"
   ]
  },
  {
   "cell_type": "markdown",
   "id": "8f4b69c9",
   "metadata": {},
   "source": [
    "**So functions also work as referencing!** \n",
    "In a way, the referencing is quite usefull to the functions. It allows the program *not* to copy the original data each time. This is useful when we are using GB of data is quite useful because if not we would be duplicating the RAM need.\n",
    "However, this is not always intuitive and it can be the case that we want to create a new intance of the data."
   ]
  },
  {
   "cell_type": "markdown",
   "id": "450ca12b",
   "metadata": {},
   "source": [
    "## Let's check if there is a difference between positional and keyword arguments on this"
   ]
  },
  {
   "cell_type": "code",
   "execution_count": 2,
   "id": "244a5574",
   "metadata": {},
   "outputs": [
    {
     "name": "stdout",
     "output_type": "stream",
     "text": [
      "[1, 2, 3, 4]\n",
      "[1, 2, 3, 4]\n"
     ]
    }
   ],
   "source": [
    "raw_data = [1, 2, 3]  # create a \"raw data\"\n",
    "\n",
    "process_data = process_data_adding_values(data=raw_data, value=4)\n",
    "\n",
    "print(raw_data)\n",
    "print(process_data)\n"
   ]
  },
  {
   "cell_type": "markdown",
   "id": "ecc2a7d3",
   "metadata": {},
   "source": [
    "As expected, the functions works the same, no matter how the arguments are passed to the function."
   ]
  },
  {
   "cell_type": "markdown",
   "id": "35adc2de",
   "metadata": {},
   "source": [
    "# Random seed and randoms state"
   ]
  },
  {
   "cell_type": "code",
   "execution_count": null,
   "id": "fc94f865",
   "metadata": {},
   "outputs": [],
   "source": [
    "import numpy as np\n",
    "import random\n",
    "from sklearn.model_selection import train_test_split\n",
    "from sklearn.ensemble import RandomForestClassifier\n",
    "from matplotlib\n",
    "\n",
    "X = np.random.rand(100, 10)  # Example feature set\n",
    "y = np.random.randint(0, 2, size=100)  # Example target variable\n",
    "# Set random seeds for reproducibility\n",
    "SEED = 23\n",
    "\n",
    "# 1. Python built-in random\n",
    "random.seed(SEED)\n",
    "\n",
    "# 2. NumPy\n",
    "np.random.seed(SEED)\n",
    "\n",
    "# 3. Cross-validation obbjects\n",
    "# For train-test split\n",
    "X_train, X_test, y_train, y_test = train_test_split(\n",
    "    X, y, test_size=0.2, random_state=SEED\n",
    ")\n",
    "\n",
    "# 4. Models\n",
    "# For models with randomness\n",
    "model = RandomForestClassifier(random_state=SEED)"
   ]
  },
  {
   "cell_type": "markdown",
   "id": "7a39eb1c",
   "metadata": {},
   "source": [
    "# Ensure dir"
   ]
  },
  {
   "cell_type": "markdown",
   "id": "961f7dec",
   "metadata": {},
   "source": [
    "One of the worst things that can happen is that after running our experiment (which can take months!), the results are\n",
    "not saved because the directory where we are trying to save the data does not exist.​\n",
    "\n",
    "\n",
    "We can create a function that ensures the directory exists :)​\n",
    "\n",
    "​\n",
    "For this, it is usually better to use relative paths! Absolute paths can present some problems (like permissions or difference\n",
    "in the OS).​\n",
    "\n",
    "Is a good practice to \"ensure\" the output directory **In the beggining of the experiment**, so if the code fails, is before running the heavy computational part. "
   ]
  },
  {
   "cell_type": "code",
   "execution_count": null,
   "id": "2060ef5b",
   "metadata": {},
   "outputs": [],
   "source": [
    "import os\n",
    "\n",
    "def ensure_dir(file_path: str) -> None:\n",
    "    \"\"\"\n",
    "    Ensures the directory for the given file path exists.\n",
    "\n",
    "    Args:\n",
    "        file_path (str): The file path whose directory should be created.\n",
    "    \"\"\"\n",
    "    dir_path = os.path.dirname(file_path)\n",
    "    if not os.path.exists(dir_path):\n",
    "        os.makedirs(dir_path, exist_ok=True)"
   ]
  },
  {
   "cell_type": "markdown",
   "id": "353e8902",
   "metadata": {},
   "source": [
    "# Emergency dir\n",
    "\n",
    "We can handle this exception and create an \"emergency\" path to save our results and then figure out what went wrong (but\n",
    "with our results safely stored!)​\n"
   ]
  },
  {
   "cell_type": "code",
   "execution_count": null,
   "id": "2a317cc5",
   "metadata": {},
   "outputs": [
    {
     "name": "stdout",
     "output_type": "stream",
     "text": [
      "Using directory: /home/nnieto/Nico/Cursos/FZJ - Seminars/Fundamentals_of_Unix_Terminal_and_Programming/4 - Research oriented coding/modularization/output/experiment_1\n"
     ]
    }
   ],
   "source": [
    "import sys\n",
    "from pathlib import Path  # Better path handling\n",
    "\n",
    "def ensure_dir(target_path: str, emergency_base: str = \"emergency_dir\") -> str:\n",
    "    \"\"\"\n",
    "    Ensure a directory exists at `target_path`. If creation fails, \n",
    "    fall back to an emergency directory in the current working directory.\n",
    "\n",
    "    Args:\n",
    "        target_path (str): Desired absolute/relative directory path.\n",
    "        emergency_base (str): Base name for emergency directory (default: \"emergency_dir\").\n",
    "\n",
    "    Returns:\n",
    "        str: Path to the ensured directory (either target or emergency).\n",
    "    \"\"\"\n",
    "    target_path = Path(target_path).absolute()  # Convert to absolute path\n",
    "    emergency_dir = Path.cwd() / emergency_base  # Emergency dir in current working dir\n",
    "\n",
    "    try:\n",
    "        # Attempt to create target directory\n",
    "        target_path.mkdir(parents=True, exist_ok=True)\n",
    "        return str(target_path)\n",
    "    except (OSError, PermissionError) as e:\n",
    "        # Fallback: Create emergency directory\n",
    "        print(\n",
    "            f\"Failed to create directory at '{target_path}': {e}\\n\"\n",
    "            f\"Using emergency directory: '{emergency_dir}'\",\n",
    "            file=sys.stderr\n",
    "        )\n",
    "        emergency_dir.mkdir(exist_ok=True)  # Safe by design (current dir is writable)\n",
    "        return str(emergency_dir)\n",
    "\n",
    "# Example usage\n",
    "results_save_dir = ensure_dir(\"./output/experiment_1\")  # Might fail (permissions)\n",
    "print(f\"Created directory: {results_save_dir}\")"
   ]
  }
 ],
 "metadata": {
  "kernelspec": {
   "display_name": "julearn_env",
   "language": "python",
   "name": "python3"
  },
  "language_info": {
   "codemirror_mode": {
    "name": "ipython",
    "version": 3
   },
   "file_extension": ".py",
   "mimetype": "text/x-python",
   "name": "python",
   "nbconvert_exporter": "python",
   "pygments_lexer": "ipython3",
   "version": "3.10.8"
  }
 },
 "nbformat": 4,
 "nbformat_minor": 5
}
