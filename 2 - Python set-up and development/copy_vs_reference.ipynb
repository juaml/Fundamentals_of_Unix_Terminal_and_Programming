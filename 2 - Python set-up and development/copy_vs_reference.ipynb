{
 "cells": [
  {
   "cell_type": "markdown",
   "metadata": {},
   "source": [
    "Explanation of df = data.copy() vs. df = data\n",
    "\n",
    "When working with DataFrames in Python (e.g., using pandas), it’s important to understand whether you’re creating an independent copy of the data or simply creating a reference to the original data. This distinction is crucial because it determines whether changes to one DataFrame will affect the other.\n",
    "1. df = data.copy()\n",
    "\n",
    "    What it does: This creates a new, independent copy of the data DataFrame. The new DataFrame df is stored in a different location in memory.\n",
    "\n",
    "    Implications: Any modifications made to df will not affect the original data DataFrame. This is useful when you want to manipulate or analyze the data without altering the original dataset.\n",
    "\n",
    "    When to use: Use .copy() when you need to preserve the original data and work on a separate version of it.\n",
    "\n",
    "2. df = data\n",
    "\n",
    "    What it does: This assigns the data DataFrame to df by reference. Both df and data point to the same DataFrame in memory.\n",
    "\n",
    "    Implications: Any modifications made to df will also affect the original data DataFrame, and vice versa. This is because they are essentially the same object.\n",
    "\n",
    "    When to use: Use this approach only when you intentionally want changes in one DataFrame to reflect in the other."
   ]
  },
  {
   "cell_type": "markdown",
   "metadata": {},
   "source": [
    "Example: Demonstrating the Difference\n",
    "\n",
    "Let’s use the iris dataset from the seaborn library to illustrate this concept. We’ll compare the behavior of df = data.copy() and df = data when modifying the DataFrame."
   ]
  },
  {
   "cell_type": "code",
   "execution_count": 2,
   "metadata": {},
   "outputs": [
    {
     "name": "stdout",
     "output_type": "stream",
     "text": [
      "Original Data:\n",
      "   sepal_length  sepal_width  petal_length  petal_width species\n",
      "0           5.1          3.5           1.4          0.2  setosa\n",
      "1           4.9          3.0           1.4          0.2  setosa\n",
      "2           4.7          3.2           1.3          0.2  setosa\n",
      "3           4.6          3.1           1.5          0.2  setosa\n",
      "4           5.0          3.6           1.4          0.2  setosa\n"
     ]
    }
   ],
   "source": [
    "import seaborn as sns\n",
    "\n",
    "# Load the iris dataset as an example\n",
    "data = sns.load_dataset('iris')\n",
    "\n",
    "# Display the first few rows of the original dataset\n",
    "print(\"Original Data:\")\n",
    "print(data.head())"
   ]
  },
  {
   "cell_type": "markdown",
   "metadata": {},
   "source": [
    "Case 1: Using df = data (Assignment by Reference)"
   ]
  },
  {
   "cell_type": "code",
   "execution_count": null,
   "metadata": {},
   "outputs": [],
   "source": [
    "# Assign the original data to df (no copy, just a reference)\n",
    "df = data\n",
    "\n",
    "# Drop the 'species' column from the DataFrame\n",
    "df.drop(['species'], axis=1, inplace=True)\n",
    "\n",
    "# Display the modified DataFrame (df)\n",
    "print(\"\\nDataFrame (df) after dropping 'species':\")\n",
    "print(df.head())\n",
    "\n",
    "# Display the original DataFrame to show it has been changed\n",
    "print(\"\\nOriginal Data (data) has also been modified:\")\n",
    "print(data.head())"
   ]
  },
  {
   "cell_type": "markdown",
   "metadata": {},
   "source": [
    "Explanation:\n",
    "\n",
    "    Here, df is a reference to data. Dropping the species column from df also removes it from the original data DataFrame.\n",
    "\n",
    "    This happens because df and data point to the same object in memory."
   ]
  },
  {
   "cell_type": "markdown",
   "metadata": {},
   "source": [
    "## Case 2: Using df = data.copy()"
   ]
  },
  {
   "cell_type": "code",
   "execution_count": 9,
   "metadata": {},
   "outputs": [
    {
     "name": "stdout",
     "output_type": "stream",
     "text": [
      "\n",
      "Copied DataFrame (df) after dropping 'species':\n",
      "   sepal_length  sepal_width  petal_length  petal_width\n",
      "0           5.1          3.5           1.4          0.2\n",
      "1           4.9          3.0           1.4          0.2\n",
      "2           4.7          3.2           1.3          0.2\n",
      "3           4.6          3.1           1.5          0.2\n",
      "4           5.0          3.6           1.4          0.2\n",
      "\n",
      "--------------------------------------------------------\n",
      "\n",
      "\n",
      "Original Data (data) remains unchanged:\n",
      "   sepal_length  sepal_width  petal_length  petal_width species\n",
      "0           5.1          3.5           1.4          0.2  setosa\n",
      "1           4.9          3.0           1.4          0.2  setosa\n",
      "2           4.7          3.2           1.3          0.2  setosa\n",
      "3           4.6          3.1           1.5          0.2  setosa\n",
      "4           5.0          3.6           1.4          0.2  setosa\n"
     ]
    }
   ],
   "source": [
    "# Create an independent copy of the data\n",
    "df = data.copy()\n",
    "\n",
    "# Drop the 'species' column from the copied DataFrame\n",
    "df.drop(['species'], axis=1, inplace=True)\n",
    "\n",
    "# Display the copied DataFrame (without 'species')\n",
    "print(\"\\nCopied DataFrame (df) after dropping 'species':\")\n",
    "print(df.head())\n",
    "\n",
    "print(\"\\n--------------------------------------------------------\\n\")\n",
    "\n",
    "# Display the original DataFrame to show it remains unchanged\n",
    "print(\"\\nOriginal Data (data) remains unchanged:\")\n",
    "print(data.head())"
   ]
  },
  {
   "cell_type": "markdown",
   "metadata": {},
   "source": [
    "Explanation:\n",
    "\n",
    "    Here, df is an independent copy of data. Dropping the species column from df does not affect the original data DataFrame.\n",
    "\n",
    "    This is why the original data still contains the species column."
   ]
  },
  {
   "cell_type": "markdown",
   "metadata": {},
   "source": [
    "Key Takeaways\n",
    "\n",
    "    Use .copy() when you want to create an independent DataFrame that won’t affect the original data.\n",
    "\n",
    "    Be cautious with direct assignment (df = data) because changes to df will also modify the original data."
   ]
  }
 ],
 "metadata": {
  "kernelspec": {
   "display_name": "Heart_env",
   "language": "python",
   "name": "python3"
  },
  "language_info": {
   "codemirror_mode": {
    "name": "ipython",
    "version": 3
   },
   "file_extension": ".py",
   "mimetype": "text/x-python",
   "name": "python",
   "nbconvert_exporter": "python",
   "pygments_lexer": "ipython3",
   "version": "3.9.2"
  }
 },
 "nbformat": 4,
 "nbformat_minor": 2
}
